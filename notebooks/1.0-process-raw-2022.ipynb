{
 "cells": [
  {
   "cell_type": "markdown",
   "source": [
    "This was copied from the 2023 working version. It has not been updated for 2022 data completely yet."
   ],
   "metadata": {
    "collapsed": false
   }
  },
  {
   "cell_type": "code",
   "execution_count": 1,
   "metadata": {
    "collapsed": true
   },
   "outputs": [],
   "source": [
    "from src.data.process_utils import parse_file, compile_csv_logs, combine_data_files, remove_tags, create_tag_range\n",
    "import os\n",
    "from pathlib import Path\n",
    "\n",
    "project_directory = Path(os.getcwd()).parents[0]"
   ]
  },
  {
   "cell_type": "markdown",
   "source": [
    "## Step 1: Review detection counts in raw data files\n",
    "In this first step we will extract the detections from each raw datafile. Counts of line detections are noted to a log file. Low or no detections in a file indicate that the file may not be formatted correctly. Comparing counts between files also allows us to determine file duplicates."
   ],
   "metadata": {
    "collapsed": false
   }
  },
  {
   "cell_type": "code",
   "execution_count": 2,
   "outputs": [],
   "source": [
    "# 2022 Inputs\n",
    "file_list = ['CoolTerm Capture 2022-03-16 15-10-27.txt',\n",
    "             'CoolTerm Capture 2022-05-20 16-00-09_MST.txt',\n",
    "             'CoolTerm Capture 2022-06-02 15-11-05_MST.txt',\n",
    "             'CoolTerm Capture 2022-06-02 15-35-43_IL.txt',\n",
    "             'CoolTerm Capture 2022-05-02 10-19-19_MST.txt',\n",
    "             'CoolTerm Capture 2022-04-18 13-03-01 INL.txt',\n",
    "             'CoolTerm Capture 2022-03-16 14-24-44.txt',\n",
    "             'MST_20220407.txt',\n",
    "             'CoolTerm Capture 2022-05-06 11-39-27_INL.txt',\n",
    "             'CoolTerm Capture 2022-04-25 10-33-10_INL.txt',\n",
    "             'CoolTerm Capture 2022-04-29 10-49-08_MST.txt',\n",
    "             'CoolTerm Capture 2022-04-18 09-36-07.txt',\n",
    "             'CoolTerm Capture 2022-05-20 15-13-30_INL.txt',\n",
    "             'CoolTerm Capture 2022-04-18 09-44-26 Final Upload.txt',\n",
    "             'CoolTerm Capture 2022-05-02 12-48-06_INL.txt',\n",
    "             '2022-06-16 09-25-12_MS.txt',\n",
    "             'CoolTerm Capture 2022-04-18 13-03-01 INL.csv',\n",
    "             'CoolTerm Capture 2022-04-29 11-10-58_INL.txt',\n",
    "             'INL_20220407.txt',\n",
    "             'CoolTerm Capture 2022-04-25 11-05-52_MST.txt',\n",
    "             'CoolTerm Capture 2022-04-18 09-41-13.txt',\n",
    "             '2022-06-16 11-07-25_IL.txt',\n",
    "             'CoolTerm Capture 2022-05-06 10-37-49_MST.txt']\n",
    "input_directory = project_directory / 'data/raw/2022'\n",
    "interim_directory = project_directory / 'data/interim/2022'"
   ],
   "metadata": {
    "collapsed": false
   }
  },
  {
   "cell_type": "code",
   "execution_count": 3,
   "outputs": [
    {
     "name": "stdout",
     "output_type": "stream",
     "text": [
      "Processing of \"INL 2023-04-04 11-23-27.txt\" complete.\n",
      "Processing of \"INL 2023-04-11.txt\" complete.\n",
      "Processing of \"INL 2023-04-18 13-49-26.txt\" complete.\n",
      "Processing of \"INL 2023-04-27 12-09-44.txt\" complete.\n",
      "Processing of \"INL 2023-05-08 11-40-17.txt\" complete.\n",
      "Processing of \"INL 2023-05-09 12-05-47.txt\" complete.\n",
      "Processing of \"INL 2023-05-17 14-56-03.txt\" complete.\n",
      "Processing of \"INL 2023-06-02 14-43-21.txt\" complete.\n",
      "Processing of \"INL 2023-06-13 12-24-05.txt\" complete.\n",
      "Processing of \"INL re-try 2023-04-11.txt\" complete.\n",
      "Processing of \"MST 05-08 retry.txt\" complete.\n",
      "Processing of \"MST 2023-04-04 10-02-34.txt\" complete.\n",
      "Processing of \"MST 2023-04-11.txt\" complete.\n",
      "Processing of \"MST 2023-04-18 10-24-34.txt\" complete.\n",
      "Processing of \"MST 2023-04-27.txt\" complete.\n",
      "Processing of \"MST 2023-05-08 10-21-50.txt\" complete.\n",
      "Processing of \"MST 2023-05-17 14-12-07.txt\" complete.\n",
      "Processing of \"MST 2023-06-02 13-58-22.txt\" complete.\n",
      "Processing of \"MST 2023-06-13 11-15-03.txt\" complete.\n",
      "Processing of \"Main St 1 2023-04-18 10-24-34.txt\" complete.\n",
      "Processing of \"Main st 2023-04-27.txt\" complete.\n",
      "Processing of \"Main st re-try 2023-04-11.txt\" complete.\n",
      "Processing of \"PAL 2023-04-04 10-36-49.txt\" complete.\n",
      "Processing of \"PAL 2023-04-11.txt\" complete.\n",
      "Processing of \"PAL 2023-04-18 12-31-22.txt\" complete.\n",
      "Processing of \"PAL 2023-04-27 11-54-04.txt\" complete.\n",
      "Processing of \"PAL 2023-05-08 11-26-16.txt\" complete.\n",
      "Processing of \"PAL 2023-05-17 14-40-35.txt\" complete.\n",
      "Processing of \"PAL 2023-06-02 14-25-46.txt\" complete.\n",
      "Processing of \"PAL 2023-06-13 09-39-00.txt\" complete.\n",
      "Processing of \"PAL re-try 2023-04-11.txt\" complete.\n",
      "Processing of \"PAL retry 4-27.txt\" complete.\n",
      "Processing of \"PLS 2023-04-18 12-31-22.txt\" complete.\n",
      "CSV logs compiled into processing_logs_compiled.csv.\n"
     ]
    }
   ],
   "source": [
    "# Parses each raw file. Removes the lines that do not look like detection information.\n",
    "for file in file_list:\n",
    "    parse_file(input_file=project_directory / input_directory / file, output_dir=interim_directory)\n",
    "\n",
    "# Complies the log generated for each file into one log. Logs contain counts of detections.\n",
    "compile_csv_logs(interim_directory, 'processing_logs_compiled.csv')"
   ],
   "metadata": {
    "collapsed": false
   }
  },
  {
   "cell_type": "markdown",
   "source": [
    "## Step 2: Combining the detection data and filtering for valid tag IDs\n",
    "Once we have reviewed the logs and selected the files want to combine we will combine all the detection files and remove unrecognized tags."
   ],
   "metadata": {
    "collapsed": false
   }
  },
  {
   "cell_type": "code",
   "execution_count": 5,
   "outputs": [
    {
     "name": "stdout",
     "output_type": "stream",
     "text": [
      "There are 145 duplicate records.\n"
     ]
    }
   ],
   "source": [
    "# Combine the detection data into a dataframe\n",
    "files_to_combine = [\n",
    "    'INL 2023-04-04 11-23-27_detection.csv',\n",
    "    'INL 2023-04-11_detection.csv',\n",
    "    'INL 2023-04-18 13-49-26_detection.csv',\n",
    "    'INL 2023-04-27 12-09-44_detection.csv',\n",
    "    'INL 2023-05-08 11-40-17_detection.csv',\n",
    "    'INL 2023-05-09 12-05-47_detection.csv',\n",
    "    'INL 2023-05-17 14-56-03_detection.csv',\n",
    "    'INL 2023-06-02 14-43-21_detection.csv',\n",
    "    'INL 2023-06-13 12-24-05_detection.csv',\n",
    "    'MST 05-08 retry_detection.csv',\n",
    "    'MST 2023-04-04 10-02-34_detection.csv',\n",
    "    'MST 2023-04-11_detection.csv',\n",
    "    'MST 2023-04-18 10-24-34_detection.csv',\n",
    "    'MST 2023-04-27_detection.csv',\n",
    "    'MST 2023-05-17 14-12-07_detection.csv',\n",
    "    'MST 2023-06-02 13-58-22_detection.csv',\n",
    "    'MST 2023-06-13 11-15-03_detection.csv',\n",
    "    'PAL 2023-04-04 10-36-49_detection.csv',\n",
    "    'PAL 2023-04-11_detection.csv',\n",
    "    'PAL 2023-04-18 12-31-22_detection.csv',\n",
    "    'PAL 2023-05-08 11-26-16_detection.csv',\n",
    "    'PAL 2023-05-17 14-40-35_detection.csv',\n",
    "    'PAL 2023-06-02 14-25-46_detection.csv',\n",
    "    'PAL 2023-06-13 09-39-00_detection.csv',\n",
    "    'PAL retry 4-27_detection.csv',]\n",
    "\n",
    "processed_directory = project_directory / 'data/processed/2023'\n",
    "\n",
    "# Concat files into a dataframe\n",
    "df_combined = combine_data_files(interim_directory, files_to_combine)\n",
    "\n",
    "# Remove site marker tags\n",
    "l_marker_tags = ['0000_0000000000005126', '0000_0000000000012627', '0000_0000000000012617']\n",
    "df_mt_removed = remove_tags(df_combined, l_marker_tags)\n",
    "\n",
    "# Create list of valid fish tags for 2023\n",
    "valid_tags_1 = create_tag_range('900_228000487', (900, 995), pad=3)\n",
    "valid_tags_2 = create_tag_range('900_228000498', (0,211), pad=3)\n",
    "valid_tags = valid_tags_1 + valid_tags_2\n",
    "\n",
    "# Filter for valid 2023 fish tags\n",
    "mask_valid = df_mt_removed['TAG'].isin(valid_tags)\n",
    "df_valid_fish = df_mt_removed[mask_valid].reset_index(drop=True)\n",
    "\n",
    "# Check for duplicates on datetime, tag_id, and site\n",
    "m_dups = df_valid_fish.duplicated(subset=['ARR','TAG', 'SCD'], keep=False)\n",
    "if (n_dups := m_dups.sum()) > 0:\n",
    "    print(f\"There are {n_dups} duplicate records.\")\n",
    "else:\n",
    "    print(\"No duplicates detected.\")\n",
    "\n",
    "# Sort the data by datetime and site\n",
    "import pandas as pd\n",
    "df_valid_fish['ARR']= pd.to_datetime(df_valid_fish['ARR'])\n",
    "df_valid_fish = df_valid_fish.sort_values(['SCD', 'ARR'])"
   ],
   "metadata": {
    "collapsed": false
   }
  },
  {
   "cell_type": "code",
   "execution_count": null,
   "outputs": [],
   "source": [
    "df_valid_fish[m_dups]"
   ],
   "metadata": {
    "collapsed": false
   }
  },
  {
   "cell_type": "code",
   "execution_count": 12,
   "outputs": [],
   "source": [
    "# Export Data\n",
    "filename = 'combined_valid-tag_detections_2023.csv'\n",
    "df_valid_fish.to_csv(processed_directory / filename, index=False)\n"
   ],
   "metadata": {
    "collapsed": false
   }
  },
  {
   "cell_type": "code",
   "execution_count": 17,
   "outputs": [
    {
     "data": {
      "text/plain": "TAG\n900_228000487901    2309\n900_228000487940    1925\n900_228000487979     906\n900_228000487912     844\n900_228000487952     819\n                    ... \n900_228000487919       9\n900_228000487981       3\n900_228000487924       2\n900_228000487966       2\n900_228000487927       1\nName: count, Length: 74, dtype: int64"
     },
     "execution_count": 17,
     "metadata": {},
     "output_type": "execute_result"
    }
   ],
   "source": [
    "df_valid_fish.TAG.value_counts()\n"
   ],
   "metadata": {
    "collapsed": false
   }
  },
  {
   "cell_type": "code",
   "execution_count": 22,
   "outputs": [
    {
     "data": {
      "text/plain": "                 TAG  count\n0   900_228000487901   2309\n33  900_228000487903     87\n51  900_228000487904     26\n53  900_228000487905     24\n47  900_228000487910     36\n..               ...    ...\n45  900_228000487986     39\n34  900_228000487987     80\n67  900_228000487988     10\n37  900_228000487989     67\n16  900_228000487995    237\n\n[74 rows x 2 columns]",
      "text/html": "<div>\n<style scoped>\n    .dataframe tbody tr th:only-of-type {\n        vertical-align: middle;\n    }\n\n    .dataframe tbody tr th {\n        vertical-align: top;\n    }\n\n    .dataframe thead th {\n        text-align: right;\n    }\n</style>\n<table border=\"1\" class=\"dataframe\">\n  <thead>\n    <tr style=\"text-align: right;\">\n      <th></th>\n      <th>TAG</th>\n      <th>count</th>\n    </tr>\n  </thead>\n  <tbody>\n    <tr>\n      <th>0</th>\n      <td>900_228000487901</td>\n      <td>2309</td>\n    </tr>\n    <tr>\n      <th>33</th>\n      <td>900_228000487903</td>\n      <td>87</td>\n    </tr>\n    <tr>\n      <th>51</th>\n      <td>900_228000487904</td>\n      <td>26</td>\n    </tr>\n    <tr>\n      <th>53</th>\n      <td>900_228000487905</td>\n      <td>24</td>\n    </tr>\n    <tr>\n      <th>47</th>\n      <td>900_228000487910</td>\n      <td>36</td>\n    </tr>\n    <tr>\n      <th>...</th>\n      <td>...</td>\n      <td>...</td>\n    </tr>\n    <tr>\n      <th>45</th>\n      <td>900_228000487986</td>\n      <td>39</td>\n    </tr>\n    <tr>\n      <th>34</th>\n      <td>900_228000487987</td>\n      <td>80</td>\n    </tr>\n    <tr>\n      <th>67</th>\n      <td>900_228000487988</td>\n      <td>10</td>\n    </tr>\n    <tr>\n      <th>37</th>\n      <td>900_228000487989</td>\n      <td>67</td>\n    </tr>\n    <tr>\n      <th>16</th>\n      <td>900_228000487995</td>\n      <td>237</td>\n    </tr>\n  </tbody>\n</table>\n<p>74 rows × 2 columns</p>\n</div>"
     },
     "execution_count": 22,
     "metadata": {},
     "output_type": "execute_result"
    }
   ],
   "source": [
    "df_valid_fish['TAG'].value_counts().reset_index().sort_values(by='TAG')\n"
   ],
   "metadata": {
    "collapsed": false
   }
  },
  {
   "cell_type": "code",
   "execution_count": 30,
   "outputs": [
    {
     "data": {
      "text/plain": "TAG\n900_228000487631         3503\n900_228000487705         3488\n0000_0000000000005126    3277\n0000_0000000000012627    3259\n0000_0000000000012617    3207\n                         ... \nTAG                         1\n2029_4503599493152767       1\n0000_0495236233474610       1\n0000_0495236233475104       1\n0000_0495236233475100       1\nName: count, Length: 225, dtype: int64"
     },
     "execution_count": 30,
     "metadata": {},
     "output_type": "execute_result"
    }
   ],
   "source": [
    "df_combined['TAG'].value_counts()\n"
   ],
   "metadata": {
    "collapsed": false
   }
  },
  {
   "cell_type": "code",
   "execution_count": 33,
   "outputs": [
    {
     "data": {
      "text/plain": "TAG\n900_228000498023    1899\n900_228000498006    1184\n900_228000498141     803\n900_228000498204     638\n900_228000498206     629\n                    ... \n900_228000498034       3\n900_228000498120       2\n900_228000498180       1\n900_228000498038       1\n900_228000498014       1\nName: count, Length: 108, dtype: int64"
     },
     "execution_count": 33,
     "metadata": {},
     "output_type": "execute_result"
    }
   ],
   "source": [
    "df_combined[df_combined['TAG'].str.startswith(\"900_228000498\")].loc[:,'TAG'].value_counts()\n"
   ],
   "metadata": {
    "collapsed": false
   }
  },
  {
   "cell_type": "code",
   "execution_count": null,
   "outputs": [],
   "source": [],
   "metadata": {
    "collapsed": false
   }
  }
 ],
 "metadata": {
  "kernelspec": {
   "display_name": "Python 3",
   "language": "python",
   "name": "python3"
  },
  "language_info": {
   "codemirror_mode": {
    "name": "ipython",
    "version": 2
   },
   "file_extension": ".py",
   "mimetype": "text/x-python",
   "name": "python",
   "nbconvert_exporter": "python",
   "pygments_lexer": "ipython2",
   "version": "2.7.6"
  }
 },
 "nbformat": 4,
 "nbformat_minor": 0
}
